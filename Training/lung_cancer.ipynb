{
 "cells": [
  {
   "cell_type": "code",
   "execution_count": 1,
   "metadata": {},
   "outputs": [],
   "source": [
    "#import image datagenerator library\n",
    "from tensorflow.keras.preprocessing.image import ImageDataGenerator"
   ]
  },
  {
   "cell_type": "code",
   "execution_count": 2,
   "metadata": {},
   "outputs": [],
   "source": [
    "train_datagen = ImageDataGenerator(rescale=1./255,\n",
    "                                   shear_range=0.1,\n",
    "                                   zoom_range=0.1,\n",
    "                                   horizontal_flip=True)"
   ]
  },
  {
   "cell_type": "code",
   "execution_count": 3,
   "metadata": {},
   "outputs": [],
   "source": [
    "val_datagen = ImageDataGenerator(rescale = 1./255)"
   ]
  },
  {
   "cell_type": "code",
   "execution_count": 4,
   "metadata": {},
   "outputs": [
    {
     "name": "stdout",
     "output_type": "stream",
     "text": [
      "Found 102 images belonging to 2 classes.\n"
     ]
    }
   ],
   "source": [
    "train_transform = train_datagen.flow_from_directory(r'D:\\PathologyImageAnalysisForLungCancerPrediction\\Dataset\\traindata',\n",
    "                                            target_size=(128,128),\n",
    "                                            batch_size=64,\n",
    "                                            class_mode='categorical')"
   ]
  },
  {
   "cell_type": "code",
   "execution_count": 5,
   "metadata": {},
   "outputs": [
    {
     "name": "stdout",
     "output_type": "stream",
     "text": [
      "Found 40 images belonging to 2 classes.\n"
     ]
    }
   ],
   "source": [
    "test_transform = val_datagen.flow_from_directory(r'D:\\PathologyImageAnalysisForLungCancerPrediction\\Dataset\\testdata',\n",
    "                                            target_size=(128,128),\n",
    "                                            batch_size=64,\n",
    "                                            class_mode='categorical')"
   ]
  },
  {
   "cell_type": "code",
   "execution_count": 6,
   "metadata": {},
   "outputs": [],
   "source": [
    "#to define linear initializations import Sequential\n",
    "from tensorflow.keras.models import Sequential\n",
    "#To add layers import Dense\n",
    "from tensorflow.keras.layers import Dense\n",
    "# to create a convolution kernel import Convolution2D\n",
    "from tensorflow.keras.layers import Convolution2D\n",
    "# Adding Max pooling Layer\n",
    "from tensorflow.keras.layers import MaxPooling2D\n",
    "# Adding Flatten Layer\n",
    "from tensorflow.keras.layers import Flatten\n",
    "from tensorflow.keras.optimizers import Adam"
   ]
  },
  {
   "cell_type": "code",
   "execution_count": 7,
   "metadata": {},
   "outputs": [],
   "source": [
    "# Initializing the model\n",
    "model=Sequential()"
   ]
  },
  {
   "cell_type": "code",
   "execution_count": 8,
   "metadata": {},
   "outputs": [],
   "source": [
    "model.add(Convolution2D(64,(3,3),input_shape=(128,128,3),activation='relu'))\n",
    "model.add(MaxPooling2D(2,2))"
   ]
  },
  {
   "cell_type": "code",
   "execution_count": 9,
   "metadata": {},
   "outputs": [],
   "source": [
    "model.add(Flatten()) "
   ]
  },
  {
   "cell_type": "code",
   "execution_count": 10,
   "metadata": {},
   "outputs": [
    {
     "data": {
      "text/plain": [
       "(None, 254016)"
      ]
     },
     "execution_count": 10,
     "metadata": {},
     "output_type": "execute_result"
    }
   ],
   "source": [
    "model.output_shape"
   ]
  },
  {
   "cell_type": "code",
   "execution_count": 11,
   "metadata": {},
   "outputs": [
    {
     "name": "stdout",
     "output_type": "stream",
     "text": [
      "Model: \"sequential\"\n",
      "_________________________________________________________________\n",
      "Layer (type)                 Output Shape              Param #   \n",
      "=================================================================\n",
      "conv2d (Conv2D)              (None, 126, 126, 64)      1792      \n",
      "_________________________________________________________________\n",
      "max_pooling2d (MaxPooling2D) (None, 63, 63, 64)        0         \n",
      "_________________________________________________________________\n",
      "flatten (Flatten)            (None, 254016)            0         \n",
      "=================================================================\n",
      "Total params: 1,792\n",
      "Trainable params: 1,792\n",
      "Non-trainable params: 0\n",
      "_________________________________________________________________\n"
     ]
    }
   ],
   "source": [
    "model.summary()"
   ]
  },
  {
   "cell_type": "code",
   "execution_count": 12,
   "metadata": {},
   "outputs": [],
   "source": [
    "# Adding 1st hidden layer\n",
    "model.add(Dense(kernel_initializer='uniform',activation='relu',units=150))"
   ]
  },
  {
   "cell_type": "code",
   "execution_count": 13,
   "metadata": {},
   "outputs": [],
   "source": [
    "model.add(Dense(kernel_initializer='uniform',activation='relu',units=68))"
   ]
  },
  {
   "cell_type": "code",
   "execution_count": 14,
   "metadata": {},
   "outputs": [],
   "source": [
    "model.add(Dense(kernel_initializer='uniform',activation='softmax',units=2))"
   ]
  },
  {
   "cell_type": "code",
   "execution_count": 15,
   "metadata": {},
   "outputs": [],
   "source": [
    "model.compile(loss='categorical_crossentropy', optimizer='adam', metrics=['acc'])"
   ]
  },
  {
   "cell_type": "code",
   "execution_count": 16,
   "metadata": {},
   "outputs": [
    {
     "name": "stdout",
     "output_type": "stream",
     "text": [
      "Model: \"sequential\"\n",
      "_________________________________________________________________\n",
      "Layer (type)                 Output Shape              Param #   \n",
      "=================================================================\n",
      "conv2d (Conv2D)              (None, 126, 126, 64)      1792      \n",
      "_________________________________________________________________\n",
      "max_pooling2d (MaxPooling2D) (None, 63, 63, 64)        0         \n",
      "_________________________________________________________________\n",
      "flatten (Flatten)            (None, 254016)            0         \n",
      "_________________________________________________________________\n",
      "dense (Dense)                (None, 150)               38102550  \n",
      "_________________________________________________________________\n",
      "dense_1 (Dense)              (None, 68)                10268     \n",
      "_________________________________________________________________\n",
      "dense_2 (Dense)              (None, 2)                 138       \n",
      "=================================================================\n",
      "Total params: 38,114,748\n",
      "Trainable params: 38,114,748\n",
      "Non-trainable params: 0\n",
      "_________________________________________________________________\n"
     ]
    }
   ],
   "source": [
    "model.summary()"
   ]
  },
  {
   "cell_type": "code",
   "execution_count": 17,
   "metadata": {
    "scrolled": true
   },
   "outputs": [
    {
     "name": "stdout",
     "output_type": "stream",
     "text": [
      "Epoch 1/30\n",
      "1/1 [==============================] - 2s 2s/step - loss: 0.7003 - acc: 0.5000\n",
      "Epoch 2/30\n",
      "1/1 [==============================] - 1s 1s/step - loss: 0.6608 - acc: 0.5781\n",
      "Epoch 3/30\n",
      "1/1 [==============================] - 1s 940ms/step - loss: 0.6792 - acc: 0.5263\n",
      "Epoch 4/30\n",
      "1/1 [==============================] - 1s 841ms/step - loss: 0.6194 - acc: 0.7368\n",
      "Epoch 5/30\n",
      "1/1 [==============================] - 1s 830ms/step - loss: 0.7065 - acc: 0.5526\n",
      "Epoch 6/30\n",
      "1/1 [==============================] - 1s 1s/step - loss: 0.5550 - acc: 0.6875\n",
      "Epoch 7/30\n",
      "1/1 [==============================] - 1s 854ms/step - loss: 0.6764 - acc: 0.6053\n",
      "Epoch 8/30\n",
      "1/1 [==============================] - 1s 1s/step - loss: 0.5473 - acc: 0.6875\n",
      "Epoch 9/30\n",
      "1/1 [==============================] - 1s 1s/step - loss: 0.5601 - acc: 0.7031\n",
      "Epoch 10/30\n",
      "1/1 [==============================] - 1s 1s/step - loss: 0.5206 - acc: 0.7344\n",
      "Epoch 11/30\n",
      "1/1 [==============================] - 1s 866ms/step - loss: 0.4241 - acc: 0.8158\n",
      "Epoch 12/30\n",
      "1/1 [==============================] - 1s 1s/step - loss: 0.4791 - acc: 0.7812\n",
      "Epoch 13/30\n",
      "1/1 [==============================] - 1s 873ms/step - loss: 0.3487 - acc: 0.8421\n",
      "Epoch 14/30\n",
      "1/1 [==============================] - 1s 1s/step - loss: 0.5167 - acc: 0.7656\n",
      "Epoch 15/30\n",
      "1/1 [==============================] - 1s 1s/step - loss: 0.4015 - acc: 0.7812\n",
      "Epoch 16/30\n",
      "1/1 [==============================] - 1s 867ms/step - loss: 0.4111 - acc: 0.7895\n",
      "Epoch 17/30\n",
      "1/1 [==============================] - 1s 1s/step - loss: 0.4029 - acc: 0.7812\n",
      "Epoch 18/30\n",
      "1/1 [==============================] - 1s 969ms/step - loss: 0.4321 - acc: 0.7895\n",
      "Epoch 19/30\n",
      "1/1 [==============================] - 1s 1s/step - loss: 0.3557 - acc: 0.8438\n",
      "Epoch 20/30\n",
      "1/1 [==============================] - 1s 1s/step - loss: 0.3670 - acc: 0.8438\n",
      "Epoch 21/30\n",
      "1/1 [==============================] - 1s 809ms/step - loss: 0.2775 - acc: 0.9211\n",
      "Epoch 22/30\n",
      "1/1 [==============================] - 1s 1s/step - loss: 0.2643 - acc: 0.8906\n",
      "Epoch 23/30\n",
      "1/1 [==============================] - 1s 1s/step - loss: 0.2402 - acc: 0.8906\n",
      "Epoch 24/30\n",
      "1/1 [==============================] - 1s 1s/step - loss: 0.2376 - acc: 0.8906\n",
      "Epoch 25/30\n",
      "1/1 [==============================] - 1s 1s/step - loss: 0.3103 - acc: 0.8750\n",
      "Epoch 26/30\n",
      "1/1 [==============================] - 1s 893ms/step - loss: 0.2864 - acc: 0.8947\n",
      "Epoch 27/30\n",
      "1/1 [==============================] - 1s 1s/step - loss: 0.1610 - acc: 0.9531\n",
      "Epoch 28/30\n",
      "1/1 [==============================] - 1s 884ms/step - loss: 0.2455 - acc: 0.8947\n",
      "Epoch 29/30\n",
      "1/1 [==============================] - 1s 834ms/step - loss: 0.2007 - acc: 0.9211\n",
      "Epoch 30/30\n",
      "1/1 [==============================] - 1s 839ms/step - loss: 0.1282 - acc: 0.9737\n"
     ]
    }
   ],
   "source": [
    "res = model.fit(train_transform,steps_per_epoch=102//64,validation_steps=40//64,epochs=30,\n",
    "                          validation_data=test_transform)"
   ]
  },
  {
   "cell_type": "code",
   "execution_count": 18,
   "metadata": {},
   "outputs": [],
   "source": [
    "model.save('cancer.h5')"
   ]
  },
  {
   "cell_type": "code",
   "execution_count": 26,
   "metadata": {},
   "outputs": [],
   "source": [
    "#import numpy library\n",
    "import numpy as np\n",
    "#import load_model method to load our saved model\n",
    "from tensorflow.keras.models import load_model\n",
    "#import image from keras.preprocessing\n",
    "from tensorflow.keras.preprocessing import image\n",
    "#loading our saved model file\n",
    "model = load_model(\"cancer.h5\")\n",
    "img = image.load_img(r\"D:\\PathologyImageAnalysisForLungCancerPrediction\\Dataset\\testdata\\Noncancer\\ID_0085_AGE_0067_CONTRAST_0_CT.jpg\",\n",
    "                     target_size=(128,128))\n",
    "\n",
    "x=image.img_to_array(img) #converting in to array format\n",
    "\n",
    "x=np.expand_dims(x,axis=0) #changing its dimensions as per our requirement \n",
    "#img_data=preprocess_input(x)\n",
    "#img_data.shape"
   ]
  },
  {
   "cell_type": "code",
   "execution_count": 27,
   "metadata": {},
   "outputs": [
    {
     "data": {
      "text/plain": [
       "array([1], dtype=int64)"
      ]
     },
     "execution_count": 27,
     "metadata": {},
     "output_type": "execute_result"
    }
   ],
   "source": [
    "a=np.argmax(model.predict(x), axis=1)\n"
   ]
  },
  {
   "cell_type": "code",
   "execution_count": null,
   "metadata": {},
   "outputs": [],
   "source": []
  }
 ],
 "metadata": {
  "kernelspec": {
   "display_name": "Python 3",
   "language": "python",
   "name": "python3"
  },
  "language_info": {
   "codemirror_mode": {
    "name": "ipython",
    "version": 3
   },
   "file_extension": ".py",
   "mimetype": "text/x-python",
   "name": "python",
   "nbconvert_exporter": "python",
   "pygments_lexer": "ipython3",
   "version": "3.8.3"
  }
 },
 "nbformat": 4,
 "nbformat_minor": 4
}
